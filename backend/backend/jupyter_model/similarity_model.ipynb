{
 "cells": [
  {
   "cell_type": "code",
   "execution_count": 34,
   "metadata": {},
   "outputs": [],
   "source": [
    "import numpy as np\n",
    "import math\n",
    "import pandas as pd\n",
    "import string\n",
    "import json\n",
    "import random\n",
    "from gensim import corpora, models, similarities\n",
    "from gensim.models.doc2vec import Doc2Vec, TaggedDocument\n",
    "from gensim.similarities import Similarity\n",
    "from nltk.tokenize import RegexpTokenizer\n",
    "from nltk.stem.porter import PorterStemmer\n",
    "from gensim.models import LdaModel\n",
    "from stop_words import get_stop_words\n",
    "from pandas import Series, DataFrame\n",
    "from sklearn.utils import shuffle\n",
    "from sklearn import linear_model\n",
    "from sklearn.externals import joblib\n",
    "from pandas import DataFrame"
   ]
  },
  {
   "cell_type": "code",
   "execution_count": 2,
   "metadata": {},
   "outputs": [],
   "source": [
    "data = pd.read_csv('../data/FiQA_train_question_doc_final.tsv', sep='\\t')\n",
    "load_questions = pd.read_csv('../data/FiQA_train_question_final.tsv', sep='\\t')\n",
    "load_docs = pd.read_csv('../data/FiQA_train_doc_final.tsv', sep='\\t')\n",
    "load_docs = load_docs.dropna()\n",
    "\n",
    "questions = load_questions['question']\n",
    "docs = load_docs['doc']"
   ]
  },
  {
   "cell_type": "code",
   "execution_count": 3,
   "metadata": {},
   "outputs": [],
   "source": [
    "for item in data['docid']:\n",
    "    if item not in load_docs['docid'].values:\n",
    "        data = data.drop(axis=0, index=data[data.docid == item].index)\n",
    "                \n",
    "# data = data[data.docid == data['docid'].isin(load_docs['docid'])]\n",
    "# print(len(data))"
   ]
  },
  {
   "cell_type": "code",
   "execution_count": 4,
   "metadata": {},
   "outputs": [],
   "source": [
    "def splitData(input_data):\n",
    "    #create positive and negative data\n",
    "    negative_qid = data['qid'].sample(10000)\n",
    "    negative_docid = []\n",
    "    for item in negative_qid:\n",
    "        negative_docid.append(data[data.qid != item]['docid'].sample(1).values[0]) \n",
    "    \n",
    "    qid = np.hstack((data['qid'], negative_qid))\n",
    "    docid  = np.hstack((data['docid'], negative_docid))\n",
    "    \n",
    "    postive_y = np.ones(len(data['qid']))\n",
    "    negative_y = np.zeros(len(negative_qid))\n",
    "    y = np.hstack((postive_y, negative_y))\n",
    "    new_data = {'qid': qid, 'docid': docid, 'y': y}\n",
    "    new_data = DataFrame(data = new_data)\n",
    "    new_data = shuffle(new_data)               \n",
    "    \n",
    "    train_data = new_data[0:15000]\n",
    "    test_data = new_data[15000:] \n",
    "    \n",
    "    return [train_data, test_data]\n"
   ]
  },
  {
   "cell_type": "code",
   "execution_count": 5,
   "metadata": {},
   "outputs": [],
   "source": [
    "def splitWord(documents):\n",
    "    #split the sentence into word and remove the stop word\n",
    "    texts = []\n",
    "    stoplist=set('for a of the and to in at after with do i was am an Do its so need on if be were are is who we fca'.split())  \n",
    "    for document in documents:\n",
    "        document = document.translate(str.maketrans('','',string.punctuation))\n",
    "        tmp = []\n",
    "        for word in document.lower().split():\n",
    "            if word not in stoplist:\n",
    "                tmp.append(word)\n",
    "        texts.append(tmp)\n",
    "    return texts"
   ]
  },
  {
   "cell_type": "code",
   "execution_count": 6,
   "metadata": {},
   "outputs": [],
   "source": [
    "def create_corpus(load_questions, load_docs):\n",
    "    questions = load_questions['question']\n",
    "    docs = load_docs['doc']\n",
    "    \n",
    "    texts = np.hstack((questions, docs))\n",
    "    texts = splitWord(texts)\n",
    "    dictionary = corpora.Dictionary(texts)\n",
    "    corpus = [dictionary.doc2bow(text) for text in texts]\n",
    "    corpus_len = len(dictionary)\n",
    "    tfidf = models.TfidfModel(corpus)\n",
    "    print(corpus[0])\n",
    "    \n",
    "    question_vec = [tfidf[text] for text in corpus[0: len(questions)]]\n",
    "    load_questions['tfidf_vector'] = question_vec\n",
    "    doc_vec = [tfidf[text] for text in corpus[len(questions):]]\n",
    "    load_docs['tfidf_vector'] = doc_vec\n",
    "    return [load_questions, load_docs]"
   ]
  },
  {
   "cell_type": "code",
   "execution_count": 7,
   "metadata": {},
   "outputs": [],
   "source": [
    "def data_process(load_questions, load_docs, data):\n",
    "    cos_sim_list = []\n",
    "    euclidean_dist_list = []\n",
    "    kl_list = []\n",
    "    word_count_list = []\n",
    "    for qid, docid in zip(data['qid'], data['docid']):\n",
    "        q_vec = dict(list(load_questions[load_questions.qid == qid]['tfidf_vector'])[0])\n",
    "#         print(docid)\n",
    "#         print(load_docs[load_docs.docid == docid])\n",
    "        doc_vec = dict(list(load_docs[load_docs.docid == docid]['tfidf_vector'])[0])\n",
    "        cos_sim = 0\n",
    "        euclidean_dist = 0\n",
    "        kl = 0\n",
    "        word_count = 0\n",
    "        for word in q_vec:\n",
    "            if word in doc_vec:\n",
    "                vec1 = q_vec[word]\n",
    "                vec2 = doc_vec[word]\n",
    "                cos_sim = vec1*vec2\n",
    "                euclidean_dist += pow((vec1 - vec2),2)\n",
    "                kl += vec1 * np.log(vec1 / vec2)\n",
    "                word_count += 1\n",
    "            else: \n",
    "                euclidean_dist += pow(q_vec[word], 2)\n",
    "                    \n",
    "        euclidean_dist = math.sqrt(euclidean_dist)\n",
    "        cos_sim /= (np.linalg.norm(list(q_vec.values())) * np.linalg.norm(list(doc_vec.values())))\n",
    "        cos_sim_list.append(cos_sim)\n",
    "        euclidean_dist_list.append(euclidean_dist)\n",
    "        kl_list.append(kl)\n",
    "        word_count_list.append(word_count)\n",
    "    data['cos_sim_list'] = cos_sim_list\n",
    "    data['euclidean_dist_list'] = euclidean_dist_list\n",
    "    data['kl_list'] = kl_list\n",
    "    data['word_count_list'] = word_count_list\n",
    "    return data"
   ]
  },
  {
   "cell_type": "code",
   "execution_count": 8,
   "metadata": {
    "scrolled": true
   },
   "outputs": [
    {
     "name": "stdout",
     "output_type": "stream",
     "text": [
      "[(0, 2), (1, 1), (2, 1), (3, 1), (4, 1)]\n"
     ]
    }
   ],
   "source": [
    "train_data, test_data = splitData(data)\n",
    "load_questions, load_docs = create_corpus(load_questions, load_docs)"
   ]
  },
  {
   "cell_type": "code",
   "execution_count": 9,
   "metadata": {},
   "outputs": [],
   "source": [
    "train_data_process = data_process(load_questions, load_docs, train_data)\n",
    "test_data_process = data_process(load_questions, load_docs, test_data)"
   ]
  },
  {
   "cell_type": "code",
   "execution_count": 10,
   "metadata": {},
   "outputs": [],
   "source": [
    "train_data_process = train_data_process.dropna()\n",
    "test_data_process = test_data_process.dropna()\n",
    "train_x = train_data_process.loc[:, ['cos_sim_list', 'word_count_list']].values\n",
    "train_y = train_data_process['y'].values\n",
    "test_x = test_data_process.loc[:, ['cos_sim_list', 'word_count_list']].values\n",
    "test_y = test_data_process['y'].values"
   ]
  },
  {
   "cell_type": "code",
   "execution_count": 12,
   "metadata": {
    "scrolled": false
   },
   "outputs": [
    {
     "data": {
      "text/plain": [
       "LogisticRegression(C=100000.0, class_weight=None, dual=False,\n",
       "          fit_intercept=True, intercept_scaling=1, max_iter=100,\n",
       "          multi_class='ovr', n_jobs=1, penalty='l2', random_state=None,\n",
       "          solver='liblinear', tol=0.0001, verbose=0, warm_start=False)"
      ]
     },
     "execution_count": 12,
     "metadata": {},
     "output_type": "execute_result"
    }
   ],
   "source": [
    "logreg = linear_model.LogisticRegression(C=1e5)\n",
    "logreg.fit(train_x, train_y)\n",
    "# joblib.dump(logreg, \"../model/logic_regression_model.m\")"
   ]
  },
  {
   "cell_type": "code",
   "execution_count": 13,
   "metadata": {},
   "outputs": [
    {
     "name": "stdout",
     "output_type": "stream",
     "text": [
      "0.8103876739562624\n"
     ]
    }
   ],
   "source": [
    "predict_y = logreg.predict(test_x)\n",
    "predict_proba_y = logreg.predict_proba(test_x)\n",
    "acc = logreg.score(test_x,test_y)\n",
    "print(acc)"
   ]
  },
  {
   "cell_type": "code",
   "execution_count": 14,
   "metadata": {},
   "outputs": [
    {
     "name": "stdout",
     "output_type": "stream",
     "text": [
      "[1 0 1 ... 0 0 0]\n",
      "[1. 0. 1. ... 0. 1. 0.]\n"
     ]
    }
   ],
   "source": [
    "print(np.argmax(predict_proba_y, 1))\n",
    "print(test_y)"
   ]
  },
  {
   "cell_type": "code",
   "execution_count": null,
   "metadata": {},
   "outputs": [],
   "source": [
    "test_qid = data['qid'].sample(1).values[0]\n",
    "all_docid = load_docs['docid'].values\n",
    "all_qid = [test_qid]*len(all_docid)\n",
    "all_data = DataFrame(data = {'qid': all_qid, 'docid': all_docid})\n",
    "all_data_process = data_process(load_questions, load_docs, all_data)"
   ]
  },
  {
   "cell_type": "code",
   "execution_count": null,
   "metadata": {},
   "outputs": [],
   "source": [
    "all_data_process = all_data_process.dropna()\n",
    "all_test_x = all_data_process.loc[:, ['cos_sim_list', 'word_count_list']].values"
   ]
  },
  {
   "cell_type": "code",
   "execution_count": null,
   "metadata": {},
   "outputs": [],
   "source": [
    "all_test_y = logreg.predict_proba(all_test_x)[:, 1]\n",
    "all_data_process['y'] = all_test_y\n",
    "new_all_data_process = all_data_process.sort_values('y', ascending=False)\n",
    "expect_docid = data[data.qid == all_data['qid'][0]]['docid']\n",
    "new_all_data_process =  new_all_data_process.reset_index(drop=True)\n",
    "\n",
    "for docid in expect_docid:\n",
    "    print(docid)\n",
    "    print(new_all_data_process[new_all_data_process.docid == docid].index)\n",
    "\n",
    "# result = np.where(all_test_x==np.max(all_test_x))\n",
    "# new_dataframe = DataFrame(data = {'y':all_test_y, 'docid': all_docid})"
   ]
  },
  {
   "cell_type": "code",
   "execution_count": 50,
   "metadata": {},
   "outputs": [
    {
     "name": "stdout",
     "output_type": "stream",
     "text": [
      "0\n",
      "18850\n"
     ]
    }
   ],
   "source": [
    "print(data['qid'].values[0])\n",
    "print(data['docid'].values[0])"
   ]
  },
  {
   "cell_type": "code",
   "execution_count": 64,
   "metadata": {},
   "outputs": [],
   "source": [
    "def create_test_sample(data, test_len, qs_len):\n",
    "    result = []\n",
    "    for i in range(0, test_len):\n",
    "        tmp_qs = np.array([data['qid'].values[i]]*qs_len)\n",
    "        tmp_answers = np.hstack((data['docid'].values[i],  random.sample(list(data['docid'].values), qs_len - 1)))\n",
    "        tmp_data = DataFrame(data = {'qid': tmp_qs, 'docid': tmp_answers})\n",
    "        data_process = data_process(load_questions, load_docs, tmp_data)\n",
    "        data_process = data_process.dropna()\n",
    "        x = all_data_process.loc[:, ['cos_sim_list', 'word_count_list']].values\n",
    "        result.append(_x)\n",
    "    return result\n",
    "\n",
    "def test_accuracy(test_sample, prediction_model, recall_len):\n",
    "    accuracy = 0;\n",
    "    for item in test_sample:\n",
    "        result = prediction_model.predict_proba(item)[:, 1]\n",
    "        if np.argmax(result) < recall_len:\n",
    "            accuracy += 1\n",
    "    accuracy /= len(test_sample) \n",
    "    print(accuracy)\n",
    "    return accuracy"
   ]
  },
  {
   "cell_type": "code",
   "execution_count": 63,
   "metadata": {},
   "outputs": [
    {
     "name": "stdout",
     "output_type": "stream",
     "text": [
      "recall: 1\n",
      "answer_length: 10\n",
      "0.49\n",
      "answer_length: 20\n",
      "0.42\n",
      "answer_length: 30\n",
      "0.39\n",
      "answer_length: 40\n",
      "0.4\n",
      "answer_length: 50\n",
      "0.35\n",
      "answer_length: 100\n",
      "0.3\n"
     ]
    }
   ],
   "source": [
    "recall = 1\n",
    "print('recall:', recall)\n",
    "print('answer_length: 10')\n",
    "test_sample_01 = create_test_sample(test_data, 100, 10)\n",
    "accuracy = test_accuracy(test_sample_01, logreg, recall)\n",
    "print('answer_length: 20')\n",
    "test_sample_02 = create_test_sample(test_data, 100, 20)\n",
    "accuracy = test_accuracy(test_sample_02, logreg, recall)\n",
    "print('answer_length: 30')\n",
    "test_sample_03 = create_test_sample(test_data, 100, 30)\n",
    "accuracy = test_accuracy(test_sample_03, logreg, recall)\n",
    "print('answer_length: 40')\n",
    "test_sample_04 = create_test_sample(test_data, 100, 40)\n",
    "accuracy = test_accuracy(test_sample_04, logreg, recall)\n",
    "print('answer_length: 50')\n",
    "test_sample_05 = create_test_sample(test_data, 100, 50)\n",
    "accuracy = test_accuracy(test_sample_05, logreg, recall)\n",
    "print('answer_length: 100')\n",
    "test_sample_06 = create_test_sample(test_data, 100, 100)\n",
    "accuracy = test_accuracy(test_sample_06, logreg, recall)"
   ]
  },
  {
   "cell_type": "code",
   "execution_count": 65,
   "metadata": {},
   "outputs": [
    {
     "name": "stdout",
     "output_type": "stream",
     "text": [
      "recall: 2\n",
      "answer_length: 10\n",
      "0.55\n",
      "answer_length: 20\n",
      "0.44\n",
      "answer_length: 30\n",
      "0.41\n",
      "answer_length: 40\n",
      "0.41\n",
      "answer_length: 50\n",
      "0.35\n",
      "answer_length: 100\n",
      "0.31\n"
     ]
    }
   ],
   "source": [
    "recall = 2\n",
    "print('recall:', recall)\n",
    "print('answer_length: 10')\n",
    "accuracy = test_accuracy(test_sample_01, logreg, recall)\n",
    "print('answer_length: 20')\n",
    "accuracy = test_accuracy(test_sample_02, logreg, recall)\n",
    "print('answer_length: 30')\n",
    "accuracy = test_accuracy(test_sample_03, logreg, recall)\n",
    "print('answer_length: 40')\n",
    "accuracy = test_accuracy(test_sample_04, logreg, recall)\n",
    "print('answer_length: 50')\n",
    "accuracy = test_accuracy(test_sample_05, logreg, recall)\n",
    "print('answer_length: 100')\n",
    "accuracy = test_accuracy(test_sample_06, logreg, recall)"
   ]
  },
  {
   "cell_type": "code",
   "execution_count": 68,
   "metadata": {},
   "outputs": [
    {
     "name": "stdout",
     "output_type": "stream",
     "text": [
      "recall: 3\n",
      "answer_length: 10\n",
      "0.58\n",
      "answer_length: 20\n",
      "0.47\n",
      "answer_length: 30\n",
      "0.42\n",
      "answer_length: 40\n",
      "0.43\n",
      "answer_length: 50\n",
      "0.35\n",
      "answer_length: 100\n",
      "0.31\n"
     ]
    }
   ],
   "source": [
    "recall = 3\n",
    "print('recall:', recall)\n",
    "print('answer_length: 10')\n",
    "accuracy = test_accuracy(test_sample_01, logreg, recall)\n",
    "print('answer_length: 20')\n",
    "accuracy = test_accuracy(test_sample_02, logreg, recall)\n",
    "print('answer_length: 30')\n",
    "accuracy = test_accuracy(test_sample_03, logreg, recall)\n",
    "print('answer_length: 40')\n",
    "accuracy = test_accuracy(test_sample_04, logreg, recall)\n",
    "print('answer_length: 50')\n",
    "accuracy = test_accuracy(test_sample_05, logreg, recall)\n",
    "print('answer_length: 100')\n",
    "accuracy = test_accuracy(test_sample_06, logreg, recall)"
   ]
  },
  {
   "cell_type": "code",
   "execution_count": 69,
   "metadata": {},
   "outputs": [
    {
     "name": "stdout",
     "output_type": "stream",
     "text": [
      "recall: 4\n",
      "answer_length: 10\n",
      "0.65\n",
      "answer_length: 20\n",
      "0.51\n",
      "answer_length: 30\n",
      "0.42\n",
      "answer_length: 40\n",
      "0.45\n",
      "answer_length: 50\n",
      "0.36\n",
      "answer_length: 100\n",
      "0.32\n"
     ]
    }
   ],
   "source": [
    "recall = 4\n",
    "print('recall:', recall)\n",
    "print('answer_length: 10')\n",
    "accuracy = test_accuracy(test_sample_01, logreg, recall)\n",
    "print('answer_length: 20')\n",
    "accuracy = test_accuracy(test_sample_02, logreg, recall)\n",
    "print('answer_length: 30')\n",
    "accuracy = test_accuracy(test_sample_03, logreg, recall)\n",
    "print('answer_length: 40')\n",
    "accuracy = test_accuracy(test_sample_04, logreg, recall)\n",
    "print('answer_length: 50')\n",
    "accuracy = test_accuracy(test_sample_05, logreg, recall)\n",
    "print('answer_length: 100')\n",
    "accuracy = test_accuracy(test_sample_06, logreg, recall)"
   ]
  },
  {
   "cell_type": "code",
   "execution_count": null,
   "metadata": {},
   "outputs": [],
   "source": []
  }
 ],
 "metadata": {
  "kernelspec": {
   "display_name": "Python 3",
   "language": "python",
   "name": "python3"
  },
  "language_info": {
   "codemirror_mode": {
    "name": "ipython",
    "version": 3
   },
   "file_extension": ".py",
   "mimetype": "text/x-python",
   "name": "python",
   "nbconvert_exporter": "python",
   "pygments_lexer": "ipython3",
   "version": "3.6.3"
  }
 },
 "nbformat": 4,
 "nbformat_minor": 2
}
